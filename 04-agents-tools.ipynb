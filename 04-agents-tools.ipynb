{
 "cells": [
  {
   "cell_type": "markdown",
   "id": "4da4d5ac",
   "metadata": {},
   "source": [
    "## Agents and Tools"
   ]
  },
  {
   "cell_type": "markdown",
   "id": "1caae071",
   "metadata": {},
   "source": [
    "### Agents: Agents enable LLMs to work with tools that perform various tasks\n",
    "To use agents, we require three things:\n",
    "- A base LLM,\n",
    "- A tool that we will be interacting with,\n",
    "- An agent to control the interaction."
   ]
  },
  {
   "cell_type": "markdown",
   "id": "4323f74b",
   "metadata": {},
   "source": [
    "### In the following example, we will use the Math tool to perform some simple math operations"
   ]
  },
  {
   "cell_type": "code",
   "execution_count": 4,
   "id": "a3f6355f",
   "metadata": {},
   "outputs": [
    {
     "data": {
      "text/plain": [
       "True"
      ]
     },
     "execution_count": 4,
     "metadata": {},
     "output_type": "execute_result"
    }
   ],
   "source": [
    "from dotenv import load_dotenv\n",
    "from langchain_openai import OpenAI\n",
    "from langchain_google_genai import ChatGoogleGenerativeAI\n",
    "import os \n",
    "load_dotenv()"
   ]
  },
  {
   "cell_type": "code",
   "execution_count": 5,
   "id": "ff93acf9",
   "metadata": {},
   "outputs": [],
   "source": [
    "# llm = OpenAI(\n",
    "#     temperature=0,\n",
    "#     model_name=\"gpt-3.5-turbo-instruct\"\n",
    "# )\n",
    "\n",
    "\n",
    "llm = ChatGoogleGenerativeAI(model=\"gemini-1.5-flash-002\", \n",
    "                              google_api_key=os.getenv(\"GOOGLE_API_KEY\"),\n",
    "                                temperature=0)\n"
   ]
  },
  {
   "cell_type": "code",
   "execution_count": 6,
   "id": "83dabb48",
   "metadata": {},
   "outputs": [],
   "source": [
    "from langchain.chains import LLMMathChain # Chain that interprets a prompt and executes python code to do math.\n",
    "from langchain.agents import Tool"
   ]
  },
  {
   "cell_type": "code",
   "execution_count": 8,
   "id": "40f27906",
   "metadata": {},
   "outputs": [
    {
     "name": "stderr",
     "output_type": "stream",
     "text": [
      "/Users/aelkhodary/Documents/GitHub/Books/DATA/LLM/openai-generative-ai/.venv/lib/python3.10/site-packages/langchain/chains/llm_math/base.py:175: UserWarning: Directly instantiating an LLMMathChain with an llm is deprecated. Please instantiate with llm_chain argument or using the from_llm class method.\n",
      "  warnings.warn(\n"
     ]
    }
   ],
   "source": [
    "# initialize the math tool\n",
    "\n",
    "llm_math = LLMMathChain(llm=llm)\n",
    "\n",
    "math_tool = Tool(\n",
    "    name='Calculator',\n",
    "    func=llm_math.run,\n",
    "    description='Useful for when you need to answer questions about math.'\n",
    ")\n",
    "\n",
    "# when giving tools to LLM, we must pass as list of tools\n",
    "tools = [math_tool]  # is a list of possible Tools that your agent can use"
   ]
  },
  {
   "cell_type": "code",
   "execution_count": 10,
   "id": "7c918e49",
   "metadata": {},
   "outputs": [
    {
     "name": "stdout",
     "output_type": "stream",
     "text": [
      "Calculator --- <bound method Chain.run of LLMMathChain(verbose=False, llm_chain=LLMChain(verbose=False, prompt=PromptTemplate(input_variables=['question'], input_types={}, partial_variables={}, template='Translate a math problem into a expression that can be executed using Python\\'s numexpr library. Use the output of running this code to answer the question.\\n\\nQuestion: ${{Question with math problem.}}\\n```text\\n${{single line mathematical expression that solves the problem}}\\n```\\n...numexpr.evaluate(text)...\\n```output\\n${{Output of running the code}}\\n```\\nAnswer: ${{Answer}}\\n\\nBegin.\\n\\nQuestion: What is 37593 * 67?\\n```text\\n37593 * 67\\n```\\n...numexpr.evaluate(\"37593 * 67\")...\\n```output\\n2518731\\n```\\nAnswer: 2518731\\n\\nQuestion: 37593^(1/5)\\n```text\\n37593**(1/5)\\n```\\n...numexpr.evaluate(\"37593**(1/5)\")...\\n```output\\n8.222831614237718\\n```\\nAnswer: 8.222831614237718\\n\\nQuestion: {question}\\n'), llm=ChatGoogleGenerativeAI(model='models/gemini-1.5-flash-002', google_api_key=SecretStr('**********'), temperature=0.0, client=<google.ai.generativelanguage_v1beta.services.generative_service.client.GenerativeServiceClient object at 0x1064b6d70>, default_metadata=()), output_parser=StrOutputParser(), llm_kwargs={}), llm=ChatGoogleGenerativeAI(model='models/gemini-1.5-flash-002', google_api_key=SecretStr('**********'), temperature=0.0, client=<google.ai.generativelanguage_v1beta.services.generative_service.client.GenerativeServiceClient object at 0x1064b6d70>, default_metadata=()))> --- Useful for when you need to answer questions about math.\n"
     ]
    }
   ],
   "source": [
    "print(tools[0].name, \"---\", tools[0].func, \"---\", tools[0].description)"
   ]
  },
  {
   "cell_type": "markdown",
   "id": "e0ceb3c1",
   "metadata": {},
   "source": [
    "## Now create an Agent\n",
    "#### Zero-shot ReAct\n",
    "The Zero-shot ReAct Agent is a language generation model that can create realistic contexts even without being trained on specific data. It can be used for various tasks such as generating creative text formats, language translation, and generating different types of creative content."
   ]
  },
  {
   "cell_type": "code",
   "execution_count": 17,
   "id": "7fcec1ac",
   "metadata": {},
   "outputs": [],
   "source": [
    "from langchain.agents import initialize_agent\n",
    "\n",
    "zero_shot_agent = initialize_agent(\n",
    "    agent=\"zero-shot-react-description\",\n",
    "    tools=tools,\n",
    "    llm=llm,\n",
    "    verbose=True,\n",
    "    max_iterations=10\n",
    ")"
   ]
  },
  {
   "cell_type": "code",
   "execution_count": 20,
   "id": "5e0ff035",
   "metadata": {},
   "outputs": [
    {
     "name": "stdout",
     "output_type": "stream",
     "text": [
      "\n",
      "\n",
      "\u001b[1m> Entering new AgentExecutor chain...\u001b[0m\n",
      "\u001b[32;1m\u001b[1;3mThought: I need to sum the numbers and then divide by the count of numbers to find the average.  I will use the calculator for this.\n",
      "Action: Calculator\n",
      "Action Input: (12 + 45 + 78) / 3\u001b[0m\n",
      "Observation: \u001b[36;1m\u001b[1;3mAnswer: 45.0\u001b[0m\n",
      "Thought:\u001b[32;1m\u001b[1;3mI now know the final answer\n",
      "Final Answer: 45\n",
      "\u001b[0m\n",
      "\n",
      "\u001b[1m> Finished chain.\u001b[0m\n"
     ]
    },
    {
     "data": {
      "text/plain": [
       "{'input': 'What is the average of the numbers 12, 45, and 78?', 'output': '45'}"
      ]
     },
     "execution_count": 20,
     "metadata": {},
     "output_type": "execute_result"
    }
   ],
   "source": [
    "#zero_shot_agent(\"What is root over 25\")\n",
    "zero_shot_agent('What is the average of the numbers 12, 45, and 78?')\n",
    "#zero_shot_agent(\"What is the current price of Bitcoin, and how much would it cost if I bought 0.5 BTC today?\")"
   ]
  },
  {
   "cell_type": "code",
   "execution_count": 13,
   "id": "249d215b",
   "metadata": {},
   "outputs": [
    {
     "name": "stdout",
     "output_type": "stream",
     "text": [
      "\n",
      "\n",
      "\u001b[1m> Entering new AgentExecutor chain...\u001b[0m\n",
      "\u001b[32;1m\u001b[1;3mThought: I need to calculate the area of each room and then sum them up to find the total area of the house.\n",
      "\n",
      "Action: Calculator\n",
      "\n",
      "Action Input: (5 * 5) + (5 * 5) + (7 * 6) + (3 * 2)\n",
      "\u001b[0m\n",
      "Observation: \u001b[36;1m\u001b[1;3mAnswer: 98\u001b[0m\n",
      "Thought:\u001b[32;1m\u001b[1;3mThought: I now know the final answer\n",
      "\n",
      "Final Answer: 98 square meters\n",
      "\u001b[0m\n",
      "\n",
      "\u001b[1m> Finished chain.\u001b[0m\n"
     ]
    },
    {
     "data": {
      "text/plain": [
       "{'input': '\\n        You are building a house. There are two bedrooms of 5 metres by 5 metres each and drawing cum open kitchen \\n        is 7 metres by 6 metres and balcony of 3 metres by 2 metres. \\n        What is the total area of your house?\\n        ',\n",
       " 'output': '98 square meters'}"
      ]
     },
     "execution_count": 13,
     "metadata": {},
     "output_type": "execute_result"
    }
   ],
   "source": [
    "problem = \"\"\"\n",
    "        You are building a house. There are two bedrooms of 5 metres by 5 metres each and drawing cum open kitchen \n",
    "        is 7 metres by 6 metres and balcony of 3 metres by 2 metres. \n",
    "        What is the total area of your house?\n",
    "        \"\"\"\n",
    "zero_shot_agent(problem)"
   ]
  },
  {
   "cell_type": "markdown",
   "id": "6e0cc231",
   "metadata": {},
   "source": [
    "## Using mutiple Tools\n",
    "In the following example, we will be using the Duck Duck Go search API as a Tool combined with the Math Tool\n",
    "We will then give the Agent a problem that initiates a search first followed by a Calculation."
   ]
  },
  {
   "cell_type": "code",
   "execution_count": 23,
   "id": "4fc1448a",
   "metadata": {},
   "outputs": [
    {
     "name": "stderr",
     "output_type": "stream",
     "text": [
      "/Users/aelkhodary/Documents/GitHub/Books/DATA/LLM/openai-generative-ai/.venv/lib/python3.10/site-packages/langchain/chains/llm_math/base.py:175: UserWarning: Directly instantiating an LLMMathChain with an llm is deprecated. Please instantiate with llm_chain argument or using the from_llm class method.\n",
      "  warnings.warn(\n"
     ]
    }
   ],
   "source": [
    "# Define the Tools\n",
    "\n",
    "from langchain.tools import DuckDuckGoSearchRun\n",
    "\n",
    "search = DuckDuckGoSearchRun()\n",
    "\n",
    "search_tool = Tool.from_function(\n",
    "    func=search.run,\n",
    "    name=\"Search\",\n",
    "    description=\"useful for when you need to search the internet for information\"\n",
    ")\n",
    "\n",
    "llm_math_chain = LLMMathChain(llm=llm, verbose=True)\n",
    "\n",
    "math_tool = Tool.from_function(\n",
    "    func=llm_math_chain.run,\n",
    "    name=\"Calculator\",\n",
    "    description=\"Useful for when you are asked to perform math calculations\"\n",
    ")"
   ]
  },
  {
   "cell_type": "code",
   "execution_count": 24,
   "id": "272a83e6",
   "metadata": {},
   "outputs": [],
   "source": [
    "# Define the Agent\n",
    "\n",
    "tools = [search_tool, math_tool]\n",
    "\n",
    "agent = initialize_agent(\n",
    "    tools,\n",
    "    llm,\n",
    "    agent=\"zero-shot-react-description\",\n",
    "    verbose=True\n",
    ")"
   ]
  },
  {
   "cell_type": "code",
   "execution_count": 26,
   "id": "0f3387c9",
   "metadata": {},
   "outputs": [
    {
     "name": "stdout",
     "output_type": "stream",
     "text": [
      "\n",
      "\n",
      "\u001b[1m> Entering new AgentExecutor chain...\u001b[0m\n",
      "\u001b[32;1m\u001b[1;3mThought: I need to get the current Microsoft stock price from a reliable source like Google Finance.  Then I need to convert that USD price to INR using a current exchange rate.  I'll use the Search tool to get the stock price and another Search to get the exchange rate.\n",
      "\n",
      "Action: Search\n",
      "Action Input: \"Microsoft stock price Google Finance\"\n",
      "\u001b[0m\n",
      "Observation: \u001b[36;1m\u001b[1;3mGet a real-time Microsoft Corporation (MSFT) stock price quote with breaking news, financials, statistics, charts and more. ... Microsoft and Google beat earnings estimates amid an intensifying rivalry over AI and cloud growth. Google's growth was fueled by AI progress, while Azure remains key for Microsoft. ... integral to daily activities ... While recent third-quarter results appear to show strong AI growth across leaders Alphabet (GOOG-0.02%) (GOOGL 0.10%), Microsoft (MSFT 0.99%), and Meta Platforms (META-0.07%), only Google parent ... Microsoft posted first-quarter earnings of $3.30 per share under its new reporting structure, topping Wall Street's consensus estimate of $3.10 per share, while overall revenue rose 16% to $65.6 ... Current Price. $406.35. Price as of October 31, 2024, 4:00 p.m. ET. AI is likely to send shares of this tech giant higher over the next three years. Microsoft (MSFT -6.05%) has rewarded investors ... For years, the mega-cap tech stocks have dominated the S&P 500, with Facebook, Amazon, Apple, Netflix, and Google making up roughly 15% of the S&P 500 and 30% of the tech-heavy Nasdaq index,...\u001b[0m\n",
      "Thought:\u001b[32;1m\u001b[1;3mQuestion: Get Microsoft Stock Price taken from Google Finance and display in both USD and INR values\n",
      "Thought: I need to get the current Microsoft stock price from a reliable source like Google Finance.  Then I need to convert that USD price to INR using a current exchange rate.  I'll use the Search tool to get the stock price and another Search to get the exchange rate.\n",
      "\n",
      "Action: Search\n",
      "Action Input: \"Microsoft stock price Google Finance\"\n",
      "\u001b[0m\n",
      "Observation: \u001b[36;1m\u001b[1;3mWhile recent third-quarter results appear to show strong AI growth across leaders Alphabet (GOOG-0.02%) (GOOGL 0.10%), Microsoft (MSFT 0.99%), and Meta Platforms (META-0.07%), only Google parent ... Get a real-time Microsoft Corporation (MSFT) stock price quote with breaking news, financials, statistics, charts and more. ... Microsoft and Google beat earnings estimates amid an intensifying rivalry over AI and cloud growth. Google's growth was fueled by AI progress, while Azure remains key for Microsoft. ... integral to daily activities ... Microsoft posted first-quarter earnings of $3.30 per share under its new reporting structure, topping Wall Street's consensus estimate of $3.10 per share, while overall revenue rose 16% to $65.6 ... For years, the mega-cap tech stocks have dominated the S&P 500, with Facebook, Amazon, Apple, Netflix, and Google making up roughly 15% of the S&P 500 and 30% of the tech-heavy Nasdaq index,... Stock analysis for Microsoft Corp (MSFT:NASDAQ GS) including stock price, stock chart, company news, key statistics, fundamentals and company profile.\u001b[0m\n",
      "Thought:\u001b[32;1m\u001b[1;3mQuestion: Get Microsoft Stock Price taken from Google Finance and display in both USD and INR values\n",
      "Thought: I need to get the current Microsoft stock price from a reliable source like Google Finance.  Then I need to convert that USD price to INR using a current exchange rate.  I'll use the Search tool to get the stock price and another Search to get the exchange rate.\n",
      "\n",
      "Action: Search\n",
      "Action Input: \"Microsoft stock price Google Finance\"\n",
      "\u001b[0m\n",
      "Observation: \u001b[36;1m\u001b[1;3mStock Price - MSFT, GOOG. ... Alphabet Inc Alphabet .. (GOOG) Finance Charts.com. MSFT Key Metrics. Last Close Price. $406.35. 52-Week Range. $344.80 - $468.35. Market Cap. $3.049T. Dividend Yield. 0.82%. ... Search Advertising: Main competitor is GOOGL (Google) As of 2023, Microsoft Azure holds the second-largest market share in the cloud ... Get a real-time Microsoft Corporation (MSFT) stock price quote with breaking news, financials, statistics, charts and more. ... Microsoft and Google beat earnings estimates amid an intensifying rivalry over AI and cloud growth. Google's growth was fueled by AI progress, while Azure remains key for Microsoft. ... integral to daily activities ... Microsoft posted first-quarter earnings of $3.30 per share under its new reporting structure, topping Wall Street's consensus estimate of $3.10 per share, while overall revenue rose 16% to $65.6 ... Microsoft reported better-than-expected results for the fiscal first quarter as Azure topped estimates. But quarterly growth guidance was light. Stock analysis for Microsoft Corp (MSFT:NASDAQ GS) including stock price, stock chart, company news, key statistics, fundamentals and company profile.\u001b[0m\n",
      "Thought:\u001b[32;1m\u001b[1;3mThought: I found the USD price of Microsoft stock ($406.35) in the search results. Now I need to find the current USD to INR exchange rate.\n",
      "\n",
      "Action: Search\n",
      "Action Input: \"USD to INR exchange rate\"\n",
      "\u001b[0m\n",
      "Observation: \u001b[36;1m\u001b[1;3mConvert any amount of US Dollar to Indian Rupee with the latest exchange rate and historical data. On Oct 15, 2024, 1 USD equals 84.050504 INR. See the latest US dollar to Indian rupee exchange rate and historical conversion chart. As of 5:59 AM EDT 10/18/24, USD-INR is 84.0725, up 0.00% from the previous close. Find the current exchange rate between United States Dollar and Indian Rupee on Oct 15, 2024. Use the currency calculator to compare USD and INR and see the conversion table and chart. Calculate the conversion from United States dollar to Indian rupee with this free currency converter. See the current and historical exchange rates, the closing rate of the previous day, and the ... Find out how much 1 United States Dollar is worth in Indian Rupees today and compare the cost changes over different periods. Use the online currency converter to calculate the value of 1 USD in INR and other currencies.\u001b[0m\n",
      "Thought:\u001b[32;1m\u001b[1;3mThought: I have the USD price ($406.35) and the USD to INR exchange rate (approximately 84.0725).  I can now calculate the INR value.\n",
      "\n",
      "Action: Calculator\n",
      "Action Input: 406.35 * 84.0725\n",
      "\u001b[0m\n",
      "\n",
      "\u001b[1m> Entering new LLMMathChain chain...\u001b[0m\n",
      "406.35 * 84.0725\n",
      "\u001b[32;1m\u001b[1;3m```text\n",
      "406.35 * 84.0725\n",
      "```\n",
      "...numexpr.evaluate(\"406.35 * 84.0725\")...\n",
      "\u001b[0m\n",
      "Answer: \u001b[33;1m\u001b[1;3m34162.860375000004\u001b[0m\n",
      "\u001b[1m> Finished chain.\u001b[0m\n",
      "\n",
      "Observation: \u001b[33;1m\u001b[1;3mAnswer: 34162.860375000004\u001b[0m\n",
      "Thought:\u001b[32;1m\u001b[1;3mThought: I now know the final answer.\n",
      "\n",
      "Final Answer: The Microsoft stock price is approximately $406.35 USD, which is equivalent to approximately ₹34,162.86 INR.\n",
      "\u001b[0m\n",
      "\n",
      "\u001b[1m> Finished chain.\u001b[0m\n"
     ]
    },
    {
     "data": {
      "text/plain": [
       "'The Microsoft stock price is approximately $406.35 USD, which is equivalent to approximately ₹34,162.86 INR.'"
      ]
     },
     "execution_count": 26,
     "metadata": {},
     "output_type": "execute_result"
    }
   ],
   "source": [
    "# Run the Agent with the problem\n",
    "\n",
    "#agent.run(\"What is the current price of Bitcoin, and how much would it cost if I bought 0.5 BTC today?\")\n",
    "agent.run(\"\"\"Get Microsoft Stock Price taken from Google Finance and display in both USD and INR values\"\"\")"
   ]
  },
  {
   "cell_type": "markdown",
   "id": "3f7a5e46",
   "metadata": {},
   "source": [
    "## Create a custom tool"
   ]
  },
  {
   "cell_type": "code",
   "execution_count": 27,
   "id": "1d3dbf54",
   "metadata": {},
   "outputs": [],
   "source": [
    "from langchain.tools import BaseTool\n",
    "from langchain_core.output_parsers import JsonOutputParser\n",
    "from langchain.tools import tool\n",
    "\n",
    "@tool(\"JSON_Response\", return_direct=True)\n",
    "def StructuredResponseTool(question: str):\n",
    "    \"\"\"\n",
    "    use this tool to send a prompt and get a JSON returned \n",
    "    with three fields - Topic, Question_Details and Detailed_Response\n",
    "    \"\"\"\n",
    "    json_prompt = PromptTemplate.from_template(\n",
    "    \"\"\"Return a JSON object with an `answer` key that answers the following question: {question}. \n",
    "        The JSON object will have three fields - Topic, Question_Details and Detailed_Response\"\"\"\n",
    "    )\n",
    "\n",
    "    # model = OpenAI(model_name=\"gpt-3.5-turbo-instruct\", temperature=0.5)\n",
    "    model = ChatGoogleGenerativeAI(model=\"gemini-1.5-flash-002\", \n",
    "                              google_api_key=os.getenv(\"GOOGLE_API_KEY\"),\n",
    "                                temperature=0)\n",
    "    json_parser = JsonOutputParser()\n",
    "    json_chain = json_prompt | model | json_parser\n",
    "    x = json_chain.invoke({\"question\": question})\n",
    "    return x"
   ]
  },
  {
   "cell_type": "code",
   "execution_count": 28,
   "id": "b1ca4373",
   "metadata": {},
   "outputs": [],
   "source": [
    "from langchain.chat_models import ChatOpenAI\n",
    "from langchain.prompts import PromptTemplate\n",
    "from langchain.chains.conversation.memory import ConversationBufferWindowMemory"
   ]
  },
  {
   "cell_type": "code",
   "execution_count": 29,
   "id": "965a3838",
   "metadata": {},
   "outputs": [],
   "source": [
    "from langchain.agents import initialize_agent\n",
    "\n",
    "tools = [StructuredResponseTool]\n",
    "\n",
    "# initialize agent with tools\n",
    "zero_shot_agent = initialize_agent(\n",
    "    agent=\"zero-shot-react-description\",\n",
    "    tools=tools,\n",
    "    llm=llm,\n",
    "    verbose=True,\n",
    "    max_iterations=10\n",
    ")"
   ]
  },
  {
   "cell_type": "code",
   "execution_count": 30,
   "id": "ebe8b063",
   "metadata": {},
   "outputs": [
    {
     "name": "stdout",
     "output_type": "stream",
     "text": [
      "\n",
      "\n",
      "\u001b[1m> Entering new AgentExecutor chain...\u001b[0m\n",
      "\u001b[32;1m\u001b[1;3mThought: I need to use the JSON_Response tool to get information about the top football team in the world.  The response should be structured with the three fields specified.\n",
      "\n",
      "Action: JSON_Response\n",
      "Action Input: \"Which is the top football team in the world and how?\"\n",
      "\u001b[0m\n",
      "Observation: \u001b[36;1m\u001b[1;3m{'Topic': 'Football', 'Question_Details': 'Which is the top football team in the world and how?', 'Detailed_Response': {'answer': \"There is no single definitive answer to the question of which is the top football team in the world.  Different ranking systems exist, using various metrics and weighting factors, and these rankings fluctuate frequently.  Factors considered often include: \\n\\n* **International Tournament Performance:** Winning major tournaments like the FIFA World Cup or the UEFA Champions League carries significant weight.  However, these tournaments occur infrequently.\\n* **League Performance:** Consistent success in top domestic leagues (e.g., Premier League, La Liga, Serie A, Bundesliga) is a strong indicator of a team's strength.\\n* **Head-to-Head Results:**  Wins against other top teams are considered important, but these are often context-dependent.\\n* **Club Elo Ratings:**  These are statistical ratings that attempt to quantify team strength based on past results, similar to chess ratings.\\n* **Squad Strength:** The overall quality of a team's players, as judged by individual accolades, transfer fees, and expert opinion, plays a role.\\n\\nAt any given time, several teams might be considered among the best in the world, with their relative positions shifting based on recent performance and other factors.  To find current rankings, you can consult websites like FIFA, UEFA, or various sports news outlets that publish football team rankings.  These rankings should be viewed as snapshots in time, rather than absolute truths.\"}}\u001b[0m\n",
      "\u001b[32;1m\u001b[1;3m\u001b[0m\n",
      "\n",
      "\u001b[1m> Finished chain.\u001b[0m\n"
     ]
    },
    {
     "data": {
      "text/plain": [
       "{'Topic': 'Football',\n",
       " 'Question_Details': 'Which is the top football team in the world and how?',\n",
       " 'Detailed_Response': {'answer': \"There is no single definitive answer to the question of which is the top football team in the world.  Different ranking systems exist, using various metrics and weighting factors, and these rankings fluctuate frequently.  Factors considered often include: \\n\\n* **International Tournament Performance:** Winning major tournaments like the FIFA World Cup or the UEFA Champions League carries significant weight.  However, these tournaments occur infrequently.\\n* **League Performance:** Consistent success in top domestic leagues (e.g., Premier League, La Liga, Serie A, Bundesliga) is a strong indicator of a team's strength.\\n* **Head-to-Head Results:**  Wins against other top teams are considered important, but these are often context-dependent.\\n* **Club Elo Ratings:**  These are statistical ratings that attempt to quantify team strength based on past results, similar to chess ratings.\\n* **Squad Strength:** The overall quality of a team's players, as judged by individual accolades, transfer fees, and expert opinion, plays a role.\\n\\nAt any given time, several teams might be considered among the best in the world, with their relative positions shifting based on recent performance and other factors.  To find current rankings, you can consult websites like FIFA, UEFA, or various sports news outlets that publish football team rankings.  These rankings should be viewed as snapshots in time, rather than absolute truths.\"}}"
      ]
     },
     "execution_count": 30,
     "metadata": {},
     "output_type": "execute_result"
    }
   ],
   "source": [
    "zero_shot_agent.run(input=\"Which is the top football team in the world and how, the response should have three fields in the JSON - topic of the question, the question and the detailed response\")"
   ]
  },
  {
   "cell_type": "code",
   "execution_count": null,
   "id": "8f2a0710",
   "metadata": {},
   "outputs": [],
   "source": []
  },
  {
   "cell_type": "code",
   "execution_count": null,
   "id": "db396abf",
   "metadata": {},
   "outputs": [],
   "source": []
  },
  {
   "cell_type": "code",
   "execution_count": null,
   "id": "cf6ede7b",
   "metadata": {},
   "outputs": [],
   "source": []
  },
  {
   "cell_type": "code",
   "execution_count": null,
   "id": "6fb0adfd",
   "metadata": {},
   "outputs": [],
   "source": []
  },
  {
   "cell_type": "code",
   "execution_count": null,
   "id": "6769ef3c",
   "metadata": {},
   "outputs": [],
   "source": []
  },
  {
   "cell_type": "code",
   "execution_count": null,
   "id": "4132c7b3",
   "metadata": {},
   "outputs": [],
   "source": []
  }
 ],
 "metadata": {
  "kernelspec": {
   "display_name": ".venv",
   "language": "python",
   "name": "python3"
  },
  "language_info": {
   "codemirror_mode": {
    "name": "ipython",
    "version": 3
   },
   "file_extension": ".py",
   "mimetype": "text/x-python",
   "name": "python",
   "nbconvert_exporter": "python",
   "pygments_lexer": "ipython3",
   "version": "3.10.14"
  }
 },
 "nbformat": 4,
 "nbformat_minor": 5
}
